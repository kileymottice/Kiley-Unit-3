{
 "cells": [
  {
   "cell_type": "code",
   "execution_count": 5,
   "id": "71ff09b4-f7d3-4a74-818b-89da275d131e",
   "metadata": {},
   "outputs": [],
   "source": [
    "object1=\"kiley\""
   ]
  },
  {
   "cell_type": "code",
   "execution_count": null,
   "id": "0351c0c3-67b8-4c07-b192-fd61ddda1bc0",
   "metadata": {},
   "outputs": [],
   "source": []
  },
  {
   "cell_type": "code",
   "execution_count": 6,
   "id": "3d288da6-b87a-42f5-ada6-d97dd1204ae2",
   "metadata": {},
   "outputs": [
    {
     "name": "stdout",
     "output_type": "stream",
     "text": [
      "kiley\n"
     ]
    }
   ],
   "source": [
    "print(object1)"
   ]
  },
  {
   "cell_type": "code",
   "execution_count": 8,
   "id": "924036b5-b36a-497b-97f1-153732f89e62",
   "metadata": {},
   "outputs": [],
   "source": [
    "number=\"34\""
   ]
  },
  {
   "cell_type": "code",
   "execution_count": 9,
   "id": "5bcd6018-8b05-4a76-811f-8b60294bb7d2",
   "metadata": {},
   "outputs": [
    {
     "name": "stdout",
     "output_type": "stream",
     "text": [
      "34\n"
     ]
    }
   ],
   "source": [
    "print(number)"
   ]
  },
  {
   "cell_type": "code",
   "execution_count": 10,
   "id": "454f7241-8f8d-4a42-a9e5-807d23dadc0f",
   "metadata": {},
   "outputs": [],
   "source": [
    "enlarge=6"
   ]
  },
  {
   "cell_type": "code",
   "execution_count": 19,
   "id": "09d261f2-4dd6-40ca-b215-84e876559abd",
   "metadata": {},
   "outputs": [
    {
     "name": "stdout",
     "output_type": "stream",
     "text": [
      "6\n"
     ]
    }
   ],
   "source": [
    "print(enlarge)"
   ]
  },
  {
   "cell_type": "code",
   "execution_count": 29,
   "id": "bb135ec1-aad6-49ac-be82-2151fd96a9c4",
   "metadata": {},
   "outputs": [
    {
     "ename": "TypeError",
     "evalue": "can only concatenate str (not \"int\") to str",
     "output_type": "error",
     "traceback": [
      "\u001b[0;31m---------------------------------------------------------------------------\u001b[0m",
      "\u001b[0;31mTypeError\u001b[0m                                 Traceback (most recent call last)",
      "\u001b[0;32m/var/folders/vx/0lzy86t948j60qx2f_48g3v80000gn/T/ipykernel_46468/993722468.py\u001b[0m in \u001b[0;36m<module>\u001b[0;34m\u001b[0m\n\u001b[0;32m----> 1\u001b[0;31m \u001b[0mtotal\u001b[0m\u001b[0;34m=\u001b[0m\u001b[0mnumber\u001b[0m\u001b[0;34m+\u001b[0m\u001b[0menlarge\u001b[0m\u001b[0;34m\u001b[0m\u001b[0;34m\u001b[0m\u001b[0m\n\u001b[0m\u001b[1;32m      2\u001b[0m \u001b[0mprint\u001b[0m \u001b[0;34m(\u001b[0m\u001b[0mtotal\u001b[0m\u001b[0;34m)\u001b[0m\u001b[0;34m\u001b[0m\u001b[0;34m\u001b[0m\u001b[0m\n",
      "\u001b[0;31mTypeError\u001b[0m: can only concatenate str (not \"int\") to str"
     ]
    }
   ],
   "source": [
    "total=number+enlarge\n",
    "print (total)"
   ]
  },
  {
   "cell_type": "code",
   "execution_count": 1,
   "id": "1df20a6e-0da4-4a78-94c3-5bd09e59bc4c",
   "metadata": {},
   "outputs": [],
   "source": [
    "import pandas as pd"
   ]
  },
  {
   "cell_type": "code",
   "execution_count": 3,
   "id": "3b4c41fc-383d-49ba-bf22-6b4c2f414df3",
   "metadata": {},
   "outputs": [],
   "source": [
    "df=pd.read_csv(\"CountyHealthData_2014-2015.csv\")"
   ]
  },
  {
   "cell_type": "code",
   "execution_count": 4,
   "id": "3fc0bf0a-a3dd-4e29-ae40-f1fd0984f204",
   "metadata": {},
   "outputs": [
    {
     "data": {
      "text/plain": [
       "(6109, 64)"
      ]
     },
     "execution_count": 4,
     "metadata": {},
     "output_type": "execute_result"
    }
   ],
   "source": [
    "df.shape"
   ]
  },
  {
   "cell_type": "code",
   "execution_count": 8,
   "id": "96bbc996-099a-4727-99e0-6be7d2630693",
   "metadata": {},
   "outputs": [
    {
     "data": {
      "text/plain": [
       "<bound method NDFrame.head of      State Region  Division                      County   FIPS  GEOID  \\\n",
       "0       AK   West   Pacific  Aleutians West Census Area   2016   2016   \n",
       "1       AK   West   Pacific  Aleutians West Census Area   2016   2016   \n",
       "2       AK   West   Pacific           Anchorage Borough   2020   2020   \n",
       "3       AK   West   Pacific           Anchorage Borough   2020   2020   \n",
       "4       AK   West   Pacific          Bethel Census Area   2050   2050   \n",
       "...    ...    ...       ...                         ...    ...    ...   \n",
       "6104    WY   West  Mountain                Uinta County  56041  56041   \n",
       "6105    WY   West  Mountain             Washakie County  56043  56043   \n",
       "6106    WY   West  Mountain             Washakie County  56043  56043   \n",
       "6107    WY   West  Mountain               Weston County  56045  56045   \n",
       "6108    WY   West  Mountain               Weston County  56045  56045   \n",
       "\n",
       "       SMS Region      Year  Premature death  Poor or fair health  ...  \\\n",
       "0     Insuff Data  1/1/2014              NaN                0.122  ...   \n",
       "1     Insuff Data  1/1/2015              NaN                0.122  ...   \n",
       "2       Region 22  1/1/2014           6827.0                0.125  ...   \n",
       "3       Region 22  1/1/2015           6856.0                0.125  ...   \n",
       "4     Insuff Data  1/1/2014          13345.0                0.211  ...   \n",
       "...           ...       ...              ...                  ...  ...   \n",
       "6104  Insuff Data  1/1/2015           7436.0                0.135  ...   \n",
       "6105  Insuff Data  1/1/2014           6580.0                0.106  ...   \n",
       "6106  Insuff Data  1/1/2015           7572.0                0.106  ...   \n",
       "6107  Insuff Data  1/1/2014           5633.0                0.162  ...   \n",
       "6108  Insuff Data  1/1/2015           7819.0                0.162  ...   \n",
       "\n",
       "      Drug poisoning deaths  Uninsured adults  Uninsured children  \\\n",
       "0                       NaN             0.374               0.250   \n",
       "1                       NaN             0.314               0.176   \n",
       "2                     15.37             0.218               0.096   \n",
       "3                     17.08             0.227               0.123   \n",
       "4                       NaN             0.394               0.124   \n",
       "...                     ...               ...                 ...   \n",
       "6104                  18.66             0.192               0.090   \n",
       "6105                    NaN             0.225               0.086   \n",
       "6106                    NaN             0.226               0.101   \n",
       "6107                    NaN             0.201               0.084   \n",
       "6108                    NaN             0.189               0.092   \n",
       "\n",
       "      Health care costs  Could not see doctor due to cost  \\\n",
       "0                3791.0                             0.185   \n",
       "1                4837.0                             0.185   \n",
       "2                6588.0                             0.119   \n",
       "3                6582.0                             0.119   \n",
       "4                5860.0                             0.200   \n",
       "...                 ...                               ...   \n",
       "6104             7600.0                             0.123   \n",
       "6105             8202.0                             0.099   \n",
       "6106             7940.0                             0.099   \n",
       "6107             6906.0                             0.130   \n",
       "6108             7238.0                             0.130   \n",
       "\n",
       "      Other primary care providers  Median household income  \\\n",
       "0                            216.0                    69192   \n",
       "1                            254.0                    74088   \n",
       "2                            135.0                    71094   \n",
       "3                            148.0                    76362   \n",
       "4                            169.0                    41722   \n",
       "...                            ...                      ...   \n",
       "6104                          47.0                    60953   \n",
       "6105                          47.0                    49533   \n",
       "6106                          47.0                    50740   \n",
       "6107                          28.0                    53665   \n",
       "6108                          28.0                    59314   \n",
       "\n",
       "      Children eligible for free lunch  Homicide rate  \\\n",
       "0                                0.127            NaN   \n",
       "1                                0.133            NaN   \n",
       "2                                0.319           6.29   \n",
       "3                                0.334           5.60   \n",
       "4                                0.668          12.77   \n",
       "...                                ...            ...   \n",
       "6104                             0.273            NaN   \n",
       "6105                             0.328            NaN   \n",
       "6106                             0.309            NaN   \n",
       "6107                             0.232            NaN   \n",
       "6108                             0.235            NaN   \n",
       "\n",
       "      Inadequate social support  \n",
       "0                         0.287  \n",
       "1                           NaN  \n",
       "2                         0.160  \n",
       "3                           NaN  \n",
       "4                         0.477  \n",
       "...                         ...  \n",
       "6104                        NaN  \n",
       "6105                      0.133  \n",
       "6106                        NaN  \n",
       "6107                      0.171  \n",
       "6108                        NaN  \n",
       "\n",
       "[6109 rows x 64 columns]>"
      ]
     },
     "execution_count": 8,
     "metadata": {},
     "output_type": "execute_result"
    }
   ],
   "source": [
    "df.head"
   ]
  },
  {
   "cell_type": "code",
   "execution_count": 9,
   "id": "2e2b28b2-5e5f-4c7e-8b05-c1987a67a9f5",
   "metadata": {},
   "outputs": [
    {
     "data": {
      "text/plain": [
       "TX    469\n",
       "GA    318\n",
       "VA    266\n",
       "KY    240\n",
       "MO    229\n",
       "IL    204\n",
       "NC    200\n",
       "KS    199\n",
       "IA    198\n",
       "TN    190\n",
       "IN    184\n",
       "OH    176\n",
       "MN    174\n",
       "MI    164\n",
       "MS    163\n",
       "NE    157\n",
       "OK    154\n",
       "AR    150\n",
       "WI    144\n",
       "FL    134\n",
       "PA    134\n",
       "AL    134\n",
       "LA    128\n",
       "NY    124\n",
       "CO    119\n",
       "SD    117\n",
       "CA    114\n",
       "WV    110\n",
       "ND     92\n",
       "MT     92\n",
       "SC     92\n",
       "ID     84\n",
       "WA     78\n",
       "OR     67\n",
       "NM     64\n",
       "UT     54\n",
       "MD     48\n",
       "AK     46\n",
       "WY     46\n",
       "NJ     42\n",
       "NV     32\n",
       "ME     32\n",
       "AZ     30\n",
       "MA     28\n",
       "VT     28\n",
       "NH     20\n",
       "CT     16\n",
       "RI     10\n",
       "HI      8\n",
       "DE      6\n",
       "DC      1\n",
       "Name: State, dtype: int64"
      ]
     },
     "execution_count": 9,
     "metadata": {},
     "output_type": "execute_result"
    }
   ],
   "source": [
    "df.State.value_counts()"
   ]
  },
  {
   "cell_type": "code",
   "execution_count": 14,
   "id": "ac990da7-5059-4404-837b-d3f01694f2d2",
   "metadata": {},
   "outputs": [
    {
     "data": {
      "text/plain": [
       "0       0.374\n",
       "1       0.314\n",
       "2       0.218\n",
       "3       0.227\n",
       "4       0.394\n",
       "        ...  \n",
       "6104    0.192\n",
       "6105    0.225\n",
       "6106    0.226\n",
       "6107    0.201\n",
       "6108    0.189\n",
       "Name: Uninsured adults, Length: 6109, dtype: float64"
      ]
     },
     "execution_count": 14,
     "metadata": {},
     "output_type": "execute_result"
    }
   ],
   "source": [
    "df[\"Uninsured adults\"]"
   ]
  },
  {
   "cell_type": "code",
   "execution_count": 15,
   "id": "29cc3ec7-e7c6-4993-a860-5481e9734e4d",
   "metadata": {},
   "outputs": [
    {
     "data": {
      "text/plain": [
       "0       0.300\n",
       "1       0.329\n",
       "2       0.257\n",
       "3       0.268\n",
       "4       0.315\n",
       "        ...  \n",
       "6104    0.293\n",
       "6105    0.241\n",
       "6106    0.242\n",
       "6107    0.313\n",
       "6108    0.288\n",
       "Name: Adult obesity, Length: 6109, dtype: float64"
      ]
     },
     "execution_count": 15,
     "metadata": {},
     "output_type": "execute_result"
    }
   ],
   "source": [
    "df[\"Adult obesity\"]"
   ]
  },
  {
   "cell_type": "code",
   "execution_count": 18,
   "id": "3a0ed5f1-251c-4590-a9bb-5b400d31de79",
   "metadata": {},
   "outputs": [
    {
     "data": {
      "text/plain": [
       "0    0.300\n",
       "1    0.329\n",
       "2    0.257\n",
       "3    0.268\n",
       "4    0.315\n",
       "Name: Adult obesity, dtype: float64"
      ]
     },
     "execution_count": 18,
     "metadata": {},
     "output_type": "execute_result"
    }
   ],
   "source": [
    "df[\"Adult obesity\"].head()"
   ]
  },
  {
   "cell_type": "code",
   "execution_count": 20,
   "id": "15ce928c-2cf9-432c-9bad-19abe71bae74",
   "metadata": {},
   "outputs": [
    {
     "data": {
      "text/plain": [
       "6104    0.293\n",
       "6105    0.241\n",
       "6106    0.242\n",
       "6107    0.313\n",
       "6108    0.288\n",
       "Name: Adult obesity, dtype: float64"
      ]
     },
     "execution_count": 20,
     "metadata": {},
     "output_type": "execute_result"
    }
   ],
   "source": [
    "df[\"Adult obesity\"].tail()"
   ]
  },
  {
   "cell_type": "code",
   "execution_count": 21,
   "id": "a6a4fb55-5cc3-43e2-865a-955f36d0cb2c",
   "metadata": {},
   "outputs": [
    {
     "data": {
      "text/plain": [
       "0       0.266\n",
       "1       0.266\n",
       "2       0.185\n",
       "3       0.185\n",
       "4       0.171\n",
       "        ...  \n",
       "6104    0.137\n",
       "6105    0.099\n",
       "6106    0.099\n",
       "6107    0.170\n",
       "6108    0.170\n",
       "Name: Excessive drinking, Length: 6109, dtype: float64"
      ]
     },
     "execution_count": 21,
     "metadata": {},
     "output_type": "execute_result"
    }
   ],
   "source": [
    "df[\"Excessive drinking\"]"
   ]
  },
  {
   "cell_type": "code",
   "execution_count": null,
   "id": "54b5c9b7-d950-4766-a58a-20ecf6530b65",
   "metadata": {},
   "outputs": [],
   "source": []
  }
 ],
 "metadata": {
  "kernelspec": {
   "display_name": "Python 3 (ipykernel)",
   "language": "python",
   "name": "python3"
  },
  "language_info": {
   "codemirror_mode": {
    "name": "ipython",
    "version": 3
   },
   "file_extension": ".py",
   "mimetype": "text/x-python",
   "name": "python",
   "nbconvert_exporter": "python",
   "pygments_lexer": "ipython3",
   "version": "3.9.13"
  }
 },
 "nbformat": 4,
 "nbformat_minor": 5
}
